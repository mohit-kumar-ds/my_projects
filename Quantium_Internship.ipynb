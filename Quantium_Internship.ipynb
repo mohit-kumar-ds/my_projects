{
 "cells": [
  {
   "cell_type": "markdown",
   "metadata": {},
   "source": [
    "### **Quantium Virtual Internship - Retail Strategy and Analytics**"
   ]
  },
  {
   "cell_type": "markdown",
   "metadata": {},
   "source": [
    "#### **Load required libraries and datasets**\n"
   ]
  },
  {
   "cell_type": "code",
   "execution_count": 1,
   "metadata": {},
   "outputs": [],
   "source": [
    "import pandas as pd \n",
    "import numpy as np \n",
    "import matplotlib.pyplot as plt \n",
    "import seaborn as sns\n",
    "from datetime import datetime"
   ]
  },
  {
   "cell_type": "markdown",
   "metadata": {},
   "source": [
    "#### **Loading Datasets**"
   ]
  },
  {
   "cell_type": "code",
   "execution_count": 2,
   "metadata": {},
   "outputs": [
    {
     "name": "stdout",
     "output_type": "stream",
     "text": [
      "(72637, 3)\n"
     ]
    },
    {
     "data": {
      "text/html": [
       "<div>\n",
       "<style scoped>\n",
       "    .dataframe tbody tr th:only-of-type {\n",
       "        vertical-align: middle;\n",
       "    }\n",
       "\n",
       "    .dataframe tbody tr th {\n",
       "        vertical-align: top;\n",
       "    }\n",
       "\n",
       "    .dataframe thead th {\n",
       "        text-align: right;\n",
       "    }\n",
       "</style>\n",
       "<table border=\"1\" class=\"dataframe\">\n",
       "  <thead>\n",
       "    <tr style=\"text-align: right;\">\n",
       "      <th></th>\n",
       "      <th>lylty_card_nbr</th>\n",
       "      <th>lifestage</th>\n",
       "      <th>premium_customer</th>\n",
       "    </tr>\n",
       "  </thead>\n",
       "  <tbody>\n",
       "    <tr>\n",
       "      <th>0</th>\n",
       "      <td>1000</td>\n",
       "      <td>YOUNG SINGLES/COUPLES</td>\n",
       "      <td>Premium</td>\n",
       "    </tr>\n",
       "    <tr>\n",
       "      <th>1</th>\n",
       "      <td>1002</td>\n",
       "      <td>YOUNG SINGLES/COUPLES</td>\n",
       "      <td>Mainstream</td>\n",
       "    </tr>\n",
       "    <tr>\n",
       "      <th>2</th>\n",
       "      <td>1003</td>\n",
       "      <td>YOUNG FAMILIES</td>\n",
       "      <td>Budget</td>\n",
       "    </tr>\n",
       "    <tr>\n",
       "      <th>3</th>\n",
       "      <td>1004</td>\n",
       "      <td>OLDER SINGLES/COUPLES</td>\n",
       "      <td>Mainstream</td>\n",
       "    </tr>\n",
       "    <tr>\n",
       "      <th>4</th>\n",
       "      <td>1005</td>\n",
       "      <td>MIDAGE SINGLES/COUPLES</td>\n",
       "      <td>Mainstream</td>\n",
       "    </tr>\n",
       "  </tbody>\n",
       "</table>\n",
       "</div>"
      ],
      "text/plain": [
       "   lylty_card_nbr               lifestage premium_customer\n",
       "0            1000   YOUNG SINGLES/COUPLES          Premium\n",
       "1            1002   YOUNG SINGLES/COUPLES       Mainstream\n",
       "2            1003          YOUNG FAMILIES           Budget\n",
       "3            1004   OLDER SINGLES/COUPLES       Mainstream\n",
       "4            1005  MIDAGE SINGLES/COUPLES       Mainstream"
      ]
     },
     "execution_count": 2,
     "metadata": {},
     "output_type": "execute_result"
    }
   ],
   "source": [
    "# loading customer data\n",
    "df_customer = pd.read_csv('QVI_purchase_behaviour.csv')\n",
    "df_customer.columns = df_customer.columns.str.lower()\n",
    "print(df_customer.shape)\n",
    "df_customer.head()"
   ]
  },
  {
   "cell_type": "code",
   "execution_count": 3,
   "metadata": {},
   "outputs": [
    {
     "name": "stdout",
     "output_type": "stream",
     "text": [
      "(264836, 8)\n"
     ]
    },
    {
     "data": {
      "text/html": [
       "<div>\n",
       "<style scoped>\n",
       "    .dataframe tbody tr th:only-of-type {\n",
       "        vertical-align: middle;\n",
       "    }\n",
       "\n",
       "    .dataframe tbody tr th {\n",
       "        vertical-align: top;\n",
       "    }\n",
       "\n",
       "    .dataframe thead th {\n",
       "        text-align: right;\n",
       "    }\n",
       "</style>\n",
       "<table border=\"1\" class=\"dataframe\">\n",
       "  <thead>\n",
       "    <tr style=\"text-align: right;\">\n",
       "      <th></th>\n",
       "      <th>date</th>\n",
       "      <th>store_nbr</th>\n",
       "      <th>lylty_card_nbr</th>\n",
       "      <th>txn_id</th>\n",
       "      <th>prod_nbr</th>\n",
       "      <th>prod_name</th>\n",
       "      <th>prod_qty</th>\n",
       "      <th>tot_sales</th>\n",
       "    </tr>\n",
       "  </thead>\n",
       "  <tbody>\n",
       "    <tr>\n",
       "      <th>0</th>\n",
       "      <td>43390</td>\n",
       "      <td>1</td>\n",
       "      <td>1000</td>\n",
       "      <td>1</td>\n",
       "      <td>5</td>\n",
       "      <td>Natural Chip        Compny SeaSalt175g</td>\n",
       "      <td>2</td>\n",
       "      <td>6.0</td>\n",
       "    </tr>\n",
       "    <tr>\n",
       "      <th>1</th>\n",
       "      <td>43599</td>\n",
       "      <td>1</td>\n",
       "      <td>1307</td>\n",
       "      <td>348</td>\n",
       "      <td>66</td>\n",
       "      <td>CCs Nacho Cheese    175g</td>\n",
       "      <td>3</td>\n",
       "      <td>6.3</td>\n",
       "    </tr>\n",
       "    <tr>\n",
       "      <th>2</th>\n",
       "      <td>43605</td>\n",
       "      <td>1</td>\n",
       "      <td>1343</td>\n",
       "      <td>383</td>\n",
       "      <td>61</td>\n",
       "      <td>Smiths Crinkle Cut  Chips Chicken 170g</td>\n",
       "      <td>2</td>\n",
       "      <td>2.9</td>\n",
       "    </tr>\n",
       "    <tr>\n",
       "      <th>3</th>\n",
       "      <td>43329</td>\n",
       "      <td>2</td>\n",
       "      <td>2373</td>\n",
       "      <td>974</td>\n",
       "      <td>69</td>\n",
       "      <td>Smiths Chip Thinly  S/Cream&amp;Onion 175g</td>\n",
       "      <td>5</td>\n",
       "      <td>15.0</td>\n",
       "    </tr>\n",
       "    <tr>\n",
       "      <th>4</th>\n",
       "      <td>43330</td>\n",
       "      <td>2</td>\n",
       "      <td>2426</td>\n",
       "      <td>1038</td>\n",
       "      <td>108</td>\n",
       "      <td>Kettle Tortilla ChpsHny&amp;Jlpno Chili 150g</td>\n",
       "      <td>3</td>\n",
       "      <td>13.8</td>\n",
       "    </tr>\n",
       "  </tbody>\n",
       "</table>\n",
       "</div>"
      ],
      "text/plain": [
       "    date  store_nbr  lylty_card_nbr  txn_id  prod_nbr  \\\n",
       "0  43390          1            1000       1         5   \n",
       "1  43599          1            1307     348        66   \n",
       "2  43605          1            1343     383        61   \n",
       "3  43329          2            2373     974        69   \n",
       "4  43330          2            2426    1038       108   \n",
       "\n",
       "                                  prod_name  prod_qty  tot_sales  \n",
       "0    Natural Chip        Compny SeaSalt175g         2        6.0  \n",
       "1                  CCs Nacho Cheese    175g         3        6.3  \n",
       "2    Smiths Crinkle Cut  Chips Chicken 170g         2        2.9  \n",
       "3    Smiths Chip Thinly  S/Cream&Onion 175g         5       15.0  \n",
       "4  Kettle Tortilla ChpsHny&Jlpno Chili 150g         3       13.8  "
      ]
     },
     "execution_count": 3,
     "metadata": {},
     "output_type": "execute_result"
    }
   ],
   "source": [
    "# loading transaction data\n",
    "df_transaction = pd.read_excel('QVI_transaction_data.xlsx')\n",
    "df_transaction.columns = df_transaction.columns.str.lower()\n",
    "print(df_transaction.shape)\n",
    "df_transaction.head()"
   ]
  },
  {
   "cell_type": "markdown",
   "metadata": {},
   "source": [
    "#### **Data Cleaning and EDA**\n"
   ]
  },
  {
   "cell_type": "code",
   "execution_count": 4,
   "metadata": {},
   "outputs": [
    {
     "name": "stdout",
     "output_type": "stream",
     "text": [
      "lylty_card_nbr       int64\n",
      "lifestage           object\n",
      "premium_customer    object\n",
      "dtype: object\n"
     ]
    }
   ],
   "source": [
    "# checking data types of df_customer columns  \n",
    "print(df_customer.dtypes)"
   ]
  },
  {
   "cell_type": "markdown",
   "metadata": {},
   "source": [
    "##### Datatypes are as expected"
   ]
  },
  {
   "cell_type": "code",
   "execution_count": 5,
   "metadata": {},
   "outputs": [
    {
     "name": "stdout",
     "output_type": "stream",
     "text": [
      "date                int64\n",
      "store_nbr           int64\n",
      "lylty_card_nbr      int64\n",
      "txn_id              int64\n",
      "prod_nbr            int64\n",
      "prod_name          object\n",
      "prod_qty            int64\n",
      "tot_sales         float64\n",
      "dtype: object\n"
     ]
    }
   ],
   "source": [
    "# checking data types of df_customer columns  \n",
    "print(df_transaction.dtypes)"
   ]
  },
  {
   "cell_type": "markdown",
   "metadata": {},
   "source": [
    "##### Datatypes are as expected except date column, date is written in integer format (number of days after 30 Dec 1899)"
   ]
  },
  {
   "cell_type": "code",
   "execution_count": 6,
   "metadata": {},
   "outputs": [
    {
     "name": "stdout",
     "output_type": "stream",
     "text": [
      "lylty_card_nbr      0\n",
      "lifestage           0\n",
      "premium_customer    0\n",
      "dtype: int64\n",
      "date              0\n",
      "store_nbr         0\n",
      "lylty_card_nbr    0\n",
      "txn_id            0\n",
      "prod_nbr          0\n",
      "prod_name         0\n",
      "prod_qty          0\n",
      "tot_sales         0\n",
      "dtype: int64\n"
     ]
    }
   ],
   "source": [
    "# checking missing values \n",
    "print(df_customer.isna().sum())\n",
    "\n",
    "print(df_transaction.isna().sum())"
   ]
  },
  {
   "cell_type": "markdown",
   "metadata": {},
   "source": [
    "##### There is no missing values"
   ]
  },
  {
   "cell_type": "code",
   "execution_count": 7,
   "metadata": {},
   "outputs": [
    {
     "name": "stdout",
     "output_type": "stream",
     "text": [
      "(264836, 8)\n"
     ]
    },
    {
     "data": {
      "text/html": [
       "<div>\n",
       "<style scoped>\n",
       "    .dataframe tbody tr th:only-of-type {\n",
       "        vertical-align: middle;\n",
       "    }\n",
       "\n",
       "    .dataframe tbody tr th {\n",
       "        vertical-align: top;\n",
       "    }\n",
       "\n",
       "    .dataframe thead th {\n",
       "        text-align: right;\n",
       "    }\n",
       "</style>\n",
       "<table border=\"1\" class=\"dataframe\">\n",
       "  <thead>\n",
       "    <tr style=\"text-align: right;\">\n",
       "      <th></th>\n",
       "      <th>date</th>\n",
       "      <th>store_nbr</th>\n",
       "      <th>lylty_card_nbr</th>\n",
       "      <th>txn_id</th>\n",
       "      <th>prod_nbr</th>\n",
       "      <th>prod_name</th>\n",
       "      <th>prod_qty</th>\n",
       "      <th>tot_sales</th>\n",
       "    </tr>\n",
       "  </thead>\n",
       "  <tbody>\n",
       "    <tr>\n",
       "      <th>0</th>\n",
       "      <td>2018-10-17</td>\n",
       "      <td>1</td>\n",
       "      <td>1000</td>\n",
       "      <td>1</td>\n",
       "      <td>5</td>\n",
       "      <td>Natural Chip        Compny SeaSalt175g</td>\n",
       "      <td>2</td>\n",
       "      <td>6.0</td>\n",
       "    </tr>\n",
       "    <tr>\n",
       "      <th>1</th>\n",
       "      <td>2019-05-14</td>\n",
       "      <td>1</td>\n",
       "      <td>1307</td>\n",
       "      <td>348</td>\n",
       "      <td>66</td>\n",
       "      <td>CCs Nacho Cheese    175g</td>\n",
       "      <td>3</td>\n",
       "      <td>6.3</td>\n",
       "    </tr>\n",
       "  </tbody>\n",
       "</table>\n",
       "</div>"
      ],
      "text/plain": [
       "        date  store_nbr  lylty_card_nbr  txn_id  prod_nbr  \\\n",
       "0 2018-10-17          1            1000       1         5   \n",
       "1 2019-05-14          1            1307     348        66   \n",
       "\n",
       "                                prod_name  prod_qty  tot_sales  \n",
       "0  Natural Chip        Compny SeaSalt175g         2        6.0  \n",
       "1                CCs Nacho Cheese    175g         3        6.3  "
      ]
     },
     "execution_count": 7,
     "metadata": {},
     "output_type": "execute_result"
    }
   ],
   "source": [
    "# converting datatype of date column to date from integer\n",
    "df_transaction['date'] = pd.to_datetime(df_transaction['date'], origin='1899-12-30', unit='D')\n",
    "print(df_transaction.shape)\n",
    "df_transaction.head(2)\n"
   ]
  },
  {
   "cell_type": "code",
   "execution_count": 8,
   "metadata": {},
   "outputs": [
    {
     "name": "stdout",
     "output_type": "stream",
     "text": [
      "date              datetime64[ns]\n",
      "store_nbr                  int64\n",
      "lylty_card_nbr             int64\n",
      "txn_id                     int64\n",
      "prod_nbr                   int64\n",
      "prod_name                 object\n",
      "prod_qty                   int64\n",
      "tot_sales                float64\n",
      "dtype: object\n"
     ]
    },
    {
     "data": {
      "text/plain": [
       "(Timestamp('2018-07-01 00:00:00'), Timestamp('2019-06-30 00:00:00'))"
      ]
     },
     "execution_count": 8,
     "metadata": {},
     "output_type": "execute_result"
    }
   ],
   "source": [
    "print(df_transaction.dtypes)\n",
    "df_transaction['date'].min(), df_transaction['date'].max()"
   ]
  },
  {
   "cell_type": "markdown",
   "metadata": {},
   "source": [
    "##### Now, datatype is looking good"
   ]
  },
  {
   "cell_type": "code",
   "execution_count": 9,
   "metadata": {},
   "outputs": [
    {
     "data": {
      "text/html": [
       "<div>\n",
       "<style scoped>\n",
       "    .dataframe tbody tr th:only-of-type {\n",
       "        vertical-align: middle;\n",
       "    }\n",
       "\n",
       "    .dataframe tbody tr th {\n",
       "        vertical-align: top;\n",
       "    }\n",
       "\n",
       "    .dataframe thead th {\n",
       "        text-align: right;\n",
       "    }\n",
       "</style>\n",
       "<table border=\"1\" class=\"dataframe\">\n",
       "  <thead>\n",
       "    <tr style=\"text-align: right;\">\n",
       "      <th></th>\n",
       "      <th>store_nbr</th>\n",
       "      <th>lylty_card_nbr</th>\n",
       "      <th>txn_id</th>\n",
       "      <th>prod_nbr</th>\n",
       "      <th>prod_qty</th>\n",
       "      <th>tot_sales</th>\n",
       "    </tr>\n",
       "  </thead>\n",
       "  <tbody>\n",
       "    <tr>\n",
       "      <th>count</th>\n",
       "      <td>264836.00000</td>\n",
       "      <td>2.648360e+05</td>\n",
       "      <td>2.648360e+05</td>\n",
       "      <td>264836.000000</td>\n",
       "      <td>264836.000000</td>\n",
       "      <td>264836.000000</td>\n",
       "    </tr>\n",
       "    <tr>\n",
       "      <th>mean</th>\n",
       "      <td>135.08011</td>\n",
       "      <td>1.355495e+05</td>\n",
       "      <td>1.351583e+05</td>\n",
       "      <td>56.583157</td>\n",
       "      <td>1.907309</td>\n",
       "      <td>7.304200</td>\n",
       "    </tr>\n",
       "    <tr>\n",
       "      <th>std</th>\n",
       "      <td>76.78418</td>\n",
       "      <td>8.057998e+04</td>\n",
       "      <td>7.813303e+04</td>\n",
       "      <td>32.826638</td>\n",
       "      <td>0.643654</td>\n",
       "      <td>3.083226</td>\n",
       "    </tr>\n",
       "    <tr>\n",
       "      <th>min</th>\n",
       "      <td>1.00000</td>\n",
       "      <td>1.000000e+03</td>\n",
       "      <td>1.000000e+00</td>\n",
       "      <td>1.000000</td>\n",
       "      <td>1.000000</td>\n",
       "      <td>1.500000</td>\n",
       "    </tr>\n",
       "    <tr>\n",
       "      <th>25%</th>\n",
       "      <td>70.00000</td>\n",
       "      <td>7.002100e+04</td>\n",
       "      <td>6.760150e+04</td>\n",
       "      <td>28.000000</td>\n",
       "      <td>2.000000</td>\n",
       "      <td>5.400000</td>\n",
       "    </tr>\n",
       "    <tr>\n",
       "      <th>50%</th>\n",
       "      <td>130.00000</td>\n",
       "      <td>1.303575e+05</td>\n",
       "      <td>1.351375e+05</td>\n",
       "      <td>56.000000</td>\n",
       "      <td>2.000000</td>\n",
       "      <td>7.400000</td>\n",
       "    </tr>\n",
       "    <tr>\n",
       "      <th>75%</th>\n",
       "      <td>203.00000</td>\n",
       "      <td>2.030942e+05</td>\n",
       "      <td>2.027012e+05</td>\n",
       "      <td>85.000000</td>\n",
       "      <td>2.000000</td>\n",
       "      <td>9.200000</td>\n",
       "    </tr>\n",
       "    <tr>\n",
       "      <th>max</th>\n",
       "      <td>272.00000</td>\n",
       "      <td>2.373711e+06</td>\n",
       "      <td>2.415841e+06</td>\n",
       "      <td>114.000000</td>\n",
       "      <td>200.000000</td>\n",
       "      <td>650.000000</td>\n",
       "    </tr>\n",
       "  </tbody>\n",
       "</table>\n",
       "</div>"
      ],
      "text/plain": [
       "          store_nbr  lylty_card_nbr        txn_id       prod_nbr  \\\n",
       "count  264836.00000    2.648360e+05  2.648360e+05  264836.000000   \n",
       "mean      135.08011    1.355495e+05  1.351583e+05      56.583157   \n",
       "std        76.78418    8.057998e+04  7.813303e+04      32.826638   \n",
       "min         1.00000    1.000000e+03  1.000000e+00       1.000000   \n",
       "25%        70.00000    7.002100e+04  6.760150e+04      28.000000   \n",
       "50%       130.00000    1.303575e+05  1.351375e+05      56.000000   \n",
       "75%       203.00000    2.030942e+05  2.027012e+05      85.000000   \n",
       "max       272.00000    2.373711e+06  2.415841e+06     114.000000   \n",
       "\n",
       "            prod_qty      tot_sales  \n",
       "count  264836.000000  264836.000000  \n",
       "mean        1.907309       7.304200  \n",
       "std         0.643654       3.083226  \n",
       "min         1.000000       1.500000  \n",
       "25%         2.000000       5.400000  \n",
       "50%         2.000000       7.400000  \n",
       "75%         2.000000       9.200000  \n",
       "max       200.000000     650.000000  "
      ]
     },
     "execution_count": 9,
     "metadata": {},
     "output_type": "execute_result"
    }
   ],
   "source": [
    "# checking summary \n",
    "df_transaction.describe()"
   ]
  },
  {
   "cell_type": "code",
   "execution_count": 10,
   "metadata": {},
   "outputs": [
    {
     "data": {
      "image/png": "[encoded data removed]",
      "text/plain": [
       "<Figure size 640x480 with 1 Axes>"
      ]
     },
     "metadata": {},
     "output_type": "display_data"
    }
   ],
   "source": [
    "# plotting histogram of product quantity column \n",
    "sns.histplot(df_transaction['prod_qty'])\n",
    "plt.show()"
   ]
  },
  {
   "cell_type": "markdown",
   "metadata": {},
   "source": [
    "##### It seems that there is outlier in prod_qty column, let check it in more detail"
   ]
  },
  {
   "cell_type": "code",
   "execution_count": 11,
   "metadata": {},
   "outputs": [
    {
     "data": {
      "text/plain": [
       "2      236039\n",
       "1       27518\n",
       "5         450\n",
       "3         430\n",
       "4         397\n",
       "200         2\n",
       "Name: prod_qty, dtype: int64"
      ]
     },
     "execution_count": 11,
     "metadata": {},
     "output_type": "execute_result"
    }
   ],
   "source": [
    "df_transaction['prod_qty'].value_counts()"
   ]
  },
  {
   "cell_type": "markdown",
   "metadata": {},
   "source": [
    "##### As we can see that there are 2 transaction of 200 packets of chips"
   ]
  },
  {
   "cell_type": "code",
   "execution_count": 12,
   "metadata": {},
   "outputs": [
    {
     "data": {
      "text/html": [
       "<div>\n",
       "<style scoped>\n",
       "    .dataframe tbody tr th:only-of-type {\n",
       "        vertical-align: middle;\n",
       "    }\n",
       "\n",
       "    .dataframe tbody tr th {\n",
       "        vertical-align: top;\n",
       "    }\n",
       "\n",
       "    .dataframe thead th {\n",
       "        text-align: right;\n",
       "    }\n",
       "</style>\n",
       "<table border=\"1\" class=\"dataframe\">\n",
       "  <thead>\n",
       "    <tr style=\"text-align: right;\">\n",
       "      <th></th>\n",
       "      <th>date</th>\n",
       "      <th>store_nbr</th>\n",
       "      <th>lylty_card_nbr</th>\n",
       "      <th>txn_id</th>\n",
       "      <th>prod_nbr</th>\n",
       "      <th>prod_name</th>\n",
       "      <th>prod_qty</th>\n",
       "      <th>tot_sales</th>\n",
       "    </tr>\n",
       "  </thead>\n",
       "  <tbody>\n",
       "    <tr>\n",
       "      <th>69762</th>\n",
       "      <td>2018-08-19</td>\n",
       "      <td>226</td>\n",
       "      <td>226000</td>\n",
       "      <td>226201</td>\n",
       "      <td>4</td>\n",
       "      <td>Dorito Corn Chp     Supreme 380g</td>\n",
       "      <td>200</td>\n",
       "      <td>650.0</td>\n",
       "    </tr>\n",
       "    <tr>\n",
       "      <th>69763</th>\n",
       "      <td>2019-05-20</td>\n",
       "      <td>226</td>\n",
       "      <td>226000</td>\n",
       "      <td>226210</td>\n",
       "      <td>4</td>\n",
       "      <td>Dorito Corn Chp     Supreme 380g</td>\n",
       "      <td>200</td>\n",
       "      <td>650.0</td>\n",
       "    </tr>\n",
       "  </tbody>\n",
       "</table>\n",
       "</div>"
      ],
      "text/plain": [
       "            date  store_nbr  lylty_card_nbr  txn_id  prod_nbr  \\\n",
       "69762 2018-08-19        226          226000  226201         4   \n",
       "69763 2019-05-20        226          226000  226210         4   \n",
       "\n",
       "                              prod_name  prod_qty  tot_sales  \n",
       "69762  Dorito Corn Chp     Supreme 380g       200      650.0  \n",
       "69763  Dorito Corn Chp     Supreme 380g       200      650.0  "
      ]
     },
     "execution_count": 12,
     "metadata": {},
     "output_type": "execute_result"
    }
   ],
   "source": [
    "df_transaction[df_transaction['prod_qty']==200]"
   ]
  },
  {
   "cell_type": "markdown",
   "metadata": {},
   "source": [
    "##### There is 1 customer who purchased 200 packets twice, We will remove these 2 transactions from the dataset to avoid bias in analysis"
   ]
  },
  {
   "cell_type": "code",
   "execution_count": 13,
   "metadata": {},
   "outputs": [
    {
     "data": {
      "text/html": [
       "<div>\n",
       "<style scoped>\n",
       "    .dataframe tbody tr th:only-of-type {\n",
       "        vertical-align: middle;\n",
       "    }\n",
       "\n",
       "    .dataframe tbody tr th {\n",
       "        vertical-align: top;\n",
       "    }\n",
       "\n",
       "    .dataframe thead th {\n",
       "        text-align: right;\n",
       "    }\n",
       "</style>\n",
       "<table border=\"1\" class=\"dataframe\">\n",
       "  <thead>\n",
       "    <tr style=\"text-align: right;\">\n",
       "      <th></th>\n",
       "      <th>date</th>\n",
       "      <th>store_nbr</th>\n",
       "      <th>lylty_card_nbr</th>\n",
       "      <th>txn_id</th>\n",
       "      <th>prod_nbr</th>\n",
       "      <th>prod_name</th>\n",
       "      <th>prod_qty</th>\n",
       "      <th>tot_sales</th>\n",
       "    </tr>\n",
       "  </thead>\n",
       "  <tbody>\n",
       "    <tr>\n",
       "      <th>69762</th>\n",
       "      <td>2018-08-19</td>\n",
       "      <td>226</td>\n",
       "      <td>226000</td>\n",
       "      <td>226201</td>\n",
       "      <td>4</td>\n",
       "      <td>Dorito Corn Chp     Supreme 380g</td>\n",
       "      <td>200</td>\n",
       "      <td>650.0</td>\n",
       "    </tr>\n",
       "    <tr>\n",
       "      <th>69763</th>\n",
       "      <td>2019-05-20</td>\n",
       "      <td>226</td>\n",
       "      <td>226000</td>\n",
       "      <td>226210</td>\n",
       "      <td>4</td>\n",
       "      <td>Dorito Corn Chp     Supreme 380g</td>\n",
       "      <td>200</td>\n",
       "      <td>650.0</td>\n",
       "    </tr>\n",
       "  </tbody>\n",
       "</table>\n",
       "</div>"
      ],
      "text/plain": [
       "            date  store_nbr  lylty_card_nbr  txn_id  prod_nbr  \\\n",
       "69762 2018-08-19        226          226000  226201         4   \n",
       "69763 2019-05-20        226          226000  226210         4   \n",
       "\n",
       "                              prod_name  prod_qty  tot_sales  \n",
       "69762  Dorito Corn Chp     Supreme 380g       200      650.0  \n",
       "69763  Dorito Corn Chp     Supreme 380g       200      650.0  "
      ]
     },
     "execution_count": 13,
     "metadata": {},
     "output_type": "execute_result"
    }
   ],
   "source": [
    "# checking other transaction of this customer\n",
    "df_transaction[df_transaction['lylty_card_nbr']==226000]"
   ]
  },
  {
   "cell_type": "code",
   "execution_count": 14,
   "metadata": {},
   "outputs": [],
   "source": [
    "# Filtering out the customer based on the loyalty card number\n",
    "df_transaction = df_transaction[df_transaction['lylty_card_nbr']!=226000]\n"
   ]
  },
  {
   "cell_type": "code",
   "execution_count": 15,
   "metadata": {},
   "outputs": [
    {
     "data": {
      "text/html": [
       "<div>\n",
       "<style scoped>\n",
       "    .dataframe tbody tr th:only-of-type {\n",
       "        vertical-align: middle;\n",
       "    }\n",
       "\n",
       "    .dataframe tbody tr th {\n",
       "        vertical-align: top;\n",
       "    }\n",
       "\n",
       "    .dataframe thead th {\n",
       "        text-align: right;\n",
       "    }\n",
       "</style>\n",
       "<table border=\"1\" class=\"dataframe\">\n",
       "  <thead>\n",
       "    <tr style=\"text-align: right;\">\n",
       "      <th></th>\n",
       "      <th>store_nbr</th>\n",
       "      <th>lylty_card_nbr</th>\n",
       "      <th>txn_id</th>\n",
       "      <th>prod_nbr</th>\n",
       "      <th>prod_qty</th>\n",
       "      <th>tot_sales</th>\n",
       "    </tr>\n",
       "  </thead>\n",
       "  <tbody>\n",
       "    <tr>\n",
       "      <th>count</th>\n",
       "      <td>264834.000000</td>\n",
       "      <td>2.648340e+05</td>\n",
       "      <td>2.648340e+05</td>\n",
       "      <td>264834.000000</td>\n",
       "      <td>264834.000000</td>\n",
       "      <td>264834.000000</td>\n",
       "    </tr>\n",
       "    <tr>\n",
       "      <th>mean</th>\n",
       "      <td>135.079423</td>\n",
       "      <td>1.355488e+05</td>\n",
       "      <td>1.351576e+05</td>\n",
       "      <td>56.583554</td>\n",
       "      <td>1.905813</td>\n",
       "      <td>7.299346</td>\n",
       "    </tr>\n",
       "    <tr>\n",
       "      <th>std</th>\n",
       "      <td>76.784063</td>\n",
       "      <td>8.057990e+04</td>\n",
       "      <td>7.813292e+04</td>\n",
       "      <td>32.826444</td>\n",
       "      <td>0.343436</td>\n",
       "      <td>2.527241</td>\n",
       "    </tr>\n",
       "    <tr>\n",
       "      <th>min</th>\n",
       "      <td>1.000000</td>\n",
       "      <td>1.000000e+03</td>\n",
       "      <td>1.000000e+00</td>\n",
       "      <td>1.000000</td>\n",
       "      <td>1.000000</td>\n",
       "      <td>1.500000</td>\n",
       "    </tr>\n",
       "    <tr>\n",
       "      <th>25%</th>\n",
       "      <td>70.000000</td>\n",
       "      <td>7.002100e+04</td>\n",
       "      <td>6.760050e+04</td>\n",
       "      <td>28.000000</td>\n",
       "      <td>2.000000</td>\n",
       "      <td>5.400000</td>\n",
       "    </tr>\n",
       "    <tr>\n",
       "      <th>50%</th>\n",
       "      <td>130.000000</td>\n",
       "      <td>1.303570e+05</td>\n",
       "      <td>1.351365e+05</td>\n",
       "      <td>56.000000</td>\n",
       "      <td>2.000000</td>\n",
       "      <td>7.400000</td>\n",
       "    </tr>\n",
       "    <tr>\n",
       "      <th>75%</th>\n",
       "      <td>203.000000</td>\n",
       "      <td>2.030940e+05</td>\n",
       "      <td>2.026998e+05</td>\n",
       "      <td>85.000000</td>\n",
       "      <td>2.000000</td>\n",
       "      <td>9.200000</td>\n",
       "    </tr>\n",
       "    <tr>\n",
       "      <th>max</th>\n",
       "      <td>272.000000</td>\n",
       "      <td>2.373711e+06</td>\n",
       "      <td>2.415841e+06</td>\n",
       "      <td>114.000000</td>\n",
       "      <td>5.000000</td>\n",
       "      <td>29.500000</td>\n",
       "    </tr>\n",
       "  </tbody>\n",
       "</table>\n",
       "</div>"
      ],
      "text/plain": [
       "           store_nbr  lylty_card_nbr        txn_id       prod_nbr  \\\n",
       "count  264834.000000    2.648340e+05  2.648340e+05  264834.000000   \n",
       "mean      135.079423    1.355488e+05  1.351576e+05      56.583554   \n",
       "std        76.784063    8.057990e+04  7.813292e+04      32.826444   \n",
       "min         1.000000    1.000000e+03  1.000000e+00       1.000000   \n",
       "25%        70.000000    7.002100e+04  6.760050e+04      28.000000   \n",
       "50%       130.000000    1.303570e+05  1.351365e+05      56.000000   \n",
       "75%       203.000000    2.030940e+05  2.026998e+05      85.000000   \n",
       "max       272.000000    2.373711e+06  2.415841e+06     114.000000   \n",
       "\n",
       "            prod_qty      tot_sales  \n",
       "count  264834.000000  264834.000000  \n",
       "mean        1.905813       7.299346  \n",
       "std         0.343436       2.527241  \n",
       "min         1.000000       1.500000  \n",
       "25%         2.000000       5.400000  \n",
       "50%         2.000000       7.400000  \n",
       "75%         2.000000       9.200000  \n",
       "max         5.000000      29.500000  "
      ]
     },
     "execution_count": 15,
     "metadata": {},
     "output_type": "execute_result"
    }
   ],
   "source": [
    "#  Re-examine transaction data\n",
    "df_transaction.describe()"
   ]
  },
  {
   "cell_type": "markdown",
   "metadata": {},
   "source": [
    "##### Looks good "
   ]
  },
  {
   "cell_type": "markdown",
   "metadata": {},
   "source": [
    "##### Checking total transactions at day level"
   ]
  },
  {
   "cell_type": "code",
   "execution_count": 16,
   "metadata": {},
   "outputs": [
    {
     "name": "stdout",
     "output_type": "stream",
     "text": [
      "(364, 2)\n"
     ]
    },
    {
     "data": {
      "text/html": [
       "<div>\n",
       "<style scoped>\n",
       "    .dataframe tbody tr th:only-of-type {\n",
       "        vertical-align: middle;\n",
       "    }\n",
       "\n",
       "    .dataframe tbody tr th {\n",
       "        vertical-align: top;\n",
       "    }\n",
       "\n",
       "    .dataframe thead th {\n",
       "        text-align: right;\n",
       "    }\n",
       "</style>\n",
       "<table border=\"1\" class=\"dataframe\">\n",
       "  <thead>\n",
       "    <tr style=\"text-align: right;\">\n",
       "      <th></th>\n",
       "      <th>date</th>\n",
       "      <th>total_transaction</th>\n",
       "    </tr>\n",
       "  </thead>\n",
       "  <tbody>\n",
       "    <tr>\n",
       "      <th>0</th>\n",
       "      <td>2018-07-01</td>\n",
       "      <td>724</td>\n",
       "    </tr>\n",
       "    <tr>\n",
       "      <th>1</th>\n",
       "      <td>2018-07-02</td>\n",
       "      <td>711</td>\n",
       "    </tr>\n",
       "    <tr>\n",
       "      <th>2</th>\n",
       "      <td>2018-07-03</td>\n",
       "      <td>722</td>\n",
       "    </tr>\n",
       "    <tr>\n",
       "      <th>3</th>\n",
       "      <td>2018-07-04</td>\n",
       "      <td>714</td>\n",
       "    </tr>\n",
       "    <tr>\n",
       "      <th>4</th>\n",
       "      <td>2018-07-05</td>\n",
       "      <td>712</td>\n",
       "    </tr>\n",
       "  </tbody>\n",
       "</table>\n",
       "</div>"
      ],
      "text/plain": [
       "        date  total_transaction\n",
       "0 2018-07-01                724\n",
       "1 2018-07-02                711\n",
       "2 2018-07-03                722\n",
       "3 2018-07-04                714\n",
       "4 2018-07-05                712"
      ]
     },
     "execution_count": 16,
     "metadata": {},
     "output_type": "execute_result"
    }
   ],
   "source": [
    "# Count the number of transactions by date\n",
    "df_transaction_grp = df_transaction.groupby(['date']).agg(total_transaction = ('txn_id', 'count')).reset_index()\n",
    "print(df_transaction_grp.shape)\n",
    "df_transaction_grp.head()"
   ]
  },
  {
   "cell_type": "code",
   "execution_count": 17,
   "metadata": {},
   "outputs": [
    {
     "data": {
      "text/plain": [
       "(Timestamp('2018-07-01 00:00:00'), Timestamp('2019-06-30 00:00:00'))"
      ]
     },
     "execution_count": 17,
     "metadata": {},
     "output_type": "execute_result"
    }
   ],
   "source": [
    "df_transaction_grp['date'].min(), df_transaction_grp['date'].max()"
   ]
  },
  {
   "cell_type": "code",
   "execution_count": 18,
   "metadata": {},
   "outputs": [
    {
     "name": "stdout",
     "output_type": "stream",
     "text": [
      "(365, 2)\n"
     ]
    },
    {
     "data": {
      "text/html": [
       "<div>\n",
       "<style scoped>\n",
       "    .dataframe tbody tr th:only-of-type {\n",
       "        vertical-align: middle;\n",
       "    }\n",
       "\n",
       "    .dataframe tbody tr th {\n",
       "        vertical-align: top;\n",
       "    }\n",
       "\n",
       "    .dataframe thead th {\n",
       "        text-align: right;\n",
       "    }\n",
       "</style>\n",
       "<table border=\"1\" class=\"dataframe\">\n",
       "  <thead>\n",
       "    <tr style=\"text-align: right;\">\n",
       "      <th></th>\n",
       "      <th>date</th>\n",
       "      <th>total_transaction</th>\n",
       "    </tr>\n",
       "  </thead>\n",
       "  <tbody>\n",
       "    <tr>\n",
       "      <th>0</th>\n",
       "      <td>2018-07-01</td>\n",
       "      <td>724.0</td>\n",
       "    </tr>\n",
       "    <tr>\n",
       "      <th>1</th>\n",
       "      <td>2018-07-02</td>\n",
       "      <td>711.0</td>\n",
       "    </tr>\n",
       "    <tr>\n",
       "      <th>2</th>\n",
       "      <td>2018-07-03</td>\n",
       "      <td>722.0</td>\n",
       "    </tr>\n",
       "    <tr>\n",
       "      <th>3</th>\n",
       "      <td>2018-07-04</td>\n",
       "      <td>714.0</td>\n",
       "    </tr>\n",
       "    <tr>\n",
       "      <th>4</th>\n",
       "      <td>2018-07-05</td>\n",
       "      <td>712.0</td>\n",
       "    </tr>\n",
       "  </tbody>\n",
       "</table>\n",
       "</div>"
      ],
      "text/plain": [
       "         date  total_transaction\n",
       "0  2018-07-01              724.0\n",
       "1  2018-07-02              711.0\n",
       "2  2018-07-03              722.0\n",
       "3  2018-07-04              714.0\n",
       "4  2018-07-05              712.0"
      ]
     },
     "execution_count": 18,
     "metadata": {},
     "output_type": "execute_result"
    }
   ],
   "source": [
    "# creating a sequence of dates from 1 Jul 2018 to 30 Jun 2019\n",
    "\n",
    "# Define the start and end dates\n",
    "start_date = '2018-07-01'\n",
    "end_date = '2019-06-30'\n",
    "\n",
    "date_range = pd.date_range(start=start_date, end=end_date, freq='D')\n",
    "df_transaction_each_date = pd.DataFrame({'date': date_range})\n",
    "\n",
    "# merging it with df_transaction_grp\n",
    "df_transaction_each_date['date'] = pd.to_datetime(df_transaction_each_date['date']).dt.date\n",
    "df_transaction_grp['date'] = pd.to_datetime(df_transaction_grp['date']).dt.date\n",
    "\n",
    "\n",
    "df_transaction_each_date = df_transaction_each_date.merge(df_transaction_grp, on = ['date'], how = 'left')\n",
    "print(df_transaction_each_date.shape)\n",
    "df_transaction_each_date.head()"
   ]
  },
  {
   "cell_type": "code",
   "execution_count": 19,
   "metadata": {},
   "outputs": [],
   "source": [
    "# filling null values with 0\n",
    "df_transaction_each_date['total_transaction'] = df_transaction_each_date['total_transaction'].fillna(0)"
   ]
  },
  {
   "cell_type": "code",
   "execution_count": 20,
   "metadata": {},
   "outputs": [
    {
     "data": {
      "image/png": "[encoded data removed]",
      "text/plain": [
       "<Figure size 640x480 with 1 Axes>"
      ]
     },
     "metadata": {},
     "output_type": "display_data"
    }
   ],
   "source": [
    "# creating the plot of total_transaction per date\n",
    "sns.lineplot(data=df_transaction_each_date, x='date', y = 'total_transaction')\n",
    "plt.grid()\n",
    "plt.show()"
   ]
  },
  {
   "cell_type": "markdown",
   "metadata": {},
   "source": [
    "##### Let's zoom in for december month "
   ]
  },
  {
   "cell_type": "code",
   "execution_count": 21,
   "metadata": {},
   "outputs": [
    {
     "name": "stdout",
     "output_type": "stream",
     "text": [
      "(31, 2)\n"
     ]
    },
    {
     "data": {
      "text/html": [
       "<div>\n",
       "<style scoped>\n",
       "    .dataframe tbody tr th:only-of-type {\n",
       "        vertical-align: middle;\n",
       "    }\n",
       "\n",
       "    .dataframe tbody tr th {\n",
       "        vertical-align: top;\n",
       "    }\n",
       "\n",
       "    .dataframe thead th {\n",
       "        text-align: right;\n",
       "    }\n",
       "</style>\n",
       "<table border=\"1\" class=\"dataframe\">\n",
       "  <thead>\n",
       "    <tr style=\"text-align: right;\">\n",
       "      <th></th>\n",
       "      <th>date</th>\n",
       "      <th>total_transaction</th>\n",
       "    </tr>\n",
       "  </thead>\n",
       "  <tbody>\n",
       "    <tr>\n",
       "      <th>0</th>\n",
       "      <td>2018-12-01</td>\n",
       "      <td>732.0</td>\n",
       "    </tr>\n",
       "    <tr>\n",
       "      <th>1</th>\n",
       "      <td>2018-12-02</td>\n",
       "      <td>703.0</td>\n",
       "    </tr>\n",
       "    <tr>\n",
       "      <th>2</th>\n",
       "      <td>2018-12-03</td>\n",
       "      <td>740.0</td>\n",
       "    </tr>\n",
       "    <tr>\n",
       "      <th>3</th>\n",
       "      <td>2018-12-04</td>\n",
       "      <td>707.0</td>\n",
       "    </tr>\n",
       "    <tr>\n",
       "      <th>4</th>\n",
       "      <td>2018-12-05</td>\n",
       "      <td>711.0</td>\n",
       "    </tr>\n",
       "  </tbody>\n",
       "</table>\n",
       "</div>"
      ],
      "text/plain": [
       "         date  total_transaction\n",
       "0  2018-12-01              732.0\n",
       "1  2018-12-02              703.0\n",
       "2  2018-12-03              740.0\n",
       "3  2018-12-04              707.0\n",
       "4  2018-12-05              711.0"
      ]
     },
     "execution_count": 21,
     "metadata": {},
     "output_type": "execute_result"
    }
   ],
   "source": [
    "# filtering data of december \n",
    "df_transaction_each_date_dec = df_transaction_each_date[(df_transaction_each_date['date']>=datetime(2018, 12, 1).date()) & (df_transaction_each_date['date']<=datetime(2018, 12, 31).date())].copy()\n",
    "df_transaction_each_date_dec = df_transaction_each_date_dec.reset_index(drop = True)\n",
    "print(df_transaction_each_date_dec.shape)\n",
    "df_transaction_each_date_dec.head()"
   ]
  },
  {
   "cell_type": "code",
   "execution_count": 22,
   "metadata": {},
   "outputs": [
    {
     "data": {
      "image/png": "[encoded data removed]",
      "text/plain": [
       "<Figure size 640x480 with 1 Axes>"
      ]
     },
     "metadata": {},
     "output_type": "display_data"
    }
   ],
   "source": [
    "# ploting zoomed plot for december month\n",
    "sns.lineplot(data=df_transaction_each_date_dec, x='date', y = 'total_transaction')\n",
    "plt.xticks(rotation=90)\n",
    "plt.grid()\n",
    "plt.show()"
   ]
  },
  {
   "cell_type": "markdown",
   "metadata": {},
   "source": [
    "##### There are 0 transactions on 25 December, looks like all stores were closed on this day"
   ]
  },
  {
   "cell_type": "markdown",
   "metadata": {},
   "source": [
    "##### Extracting Packet size and brand names from product names"
   ]
  },
  {
   "cell_type": "code",
   "execution_count": 23,
   "metadata": {},
   "outputs": [
    {
     "name": "stdout",
     "output_type": "stream",
     "text": [
      "(264834, 10)\n"
     ]
    },
    {
     "data": {
      "text/html": [
       "<div>\n",
       "<style scoped>\n",
       "    .dataframe tbody tr th:only-of-type {\n",
       "        vertical-align: middle;\n",
       "    }\n",
       "\n",
       "    .dataframe tbody tr th {\n",
       "        vertical-align: top;\n",
       "    }\n",
       "\n",
       "    .dataframe thead th {\n",
       "        text-align: right;\n",
       "    }\n",
       "</style>\n",
       "<table border=\"1\" class=\"dataframe\">\n",
       "  <thead>\n",
       "    <tr style=\"text-align: right;\">\n",
       "      <th></th>\n",
       "      <th>date</th>\n",
       "      <th>store_nbr</th>\n",
       "      <th>lylty_card_nbr</th>\n",
       "      <th>txn_id</th>\n",
       "      <th>prod_nbr</th>\n",
       "      <th>prod_name</th>\n",
       "      <th>prod_qty</th>\n",
       "      <th>tot_sales</th>\n",
       "      <th>packet_size</th>\n",
       "      <th>brand</th>\n",
       "    </tr>\n",
       "  </thead>\n",
       "  <tbody>\n",
       "    <tr>\n",
       "      <th>0</th>\n",
       "      <td>2018-10-17</td>\n",
       "      <td>1</td>\n",
       "      <td>1000</td>\n",
       "      <td>1</td>\n",
       "      <td>5</td>\n",
       "      <td>Natural Chip        Compny SeaSalt175g</td>\n",
       "      <td>2</td>\n",
       "      <td>6.0</td>\n",
       "      <td>175</td>\n",
       "      <td>Natural</td>\n",
       "    </tr>\n",
       "    <tr>\n",
       "      <th>1</th>\n",
       "      <td>2019-05-14</td>\n",
       "      <td>1</td>\n",
       "      <td>1307</td>\n",
       "      <td>348</td>\n",
       "      <td>66</td>\n",
       "      <td>CCs Nacho Cheese    175g</td>\n",
       "      <td>3</td>\n",
       "      <td>6.3</td>\n",
       "      <td>175</td>\n",
       "      <td>CCs</td>\n",
       "    </tr>\n",
       "    <tr>\n",
       "      <th>2</th>\n",
       "      <td>2019-05-20</td>\n",
       "      <td>1</td>\n",
       "      <td>1343</td>\n",
       "      <td>383</td>\n",
       "      <td>61</td>\n",
       "      <td>Smiths Crinkle Cut  Chips Chicken 170g</td>\n",
       "      <td>2</td>\n",
       "      <td>2.9</td>\n",
       "      <td>170</td>\n",
       "      <td>Smiths</td>\n",
       "    </tr>\n",
       "    <tr>\n",
       "      <th>3</th>\n",
       "      <td>2018-08-17</td>\n",
       "      <td>2</td>\n",
       "      <td>2373</td>\n",
       "      <td>974</td>\n",
       "      <td>69</td>\n",
       "      <td>Smiths Chip Thinly  S/Cream&amp;Onion 175g</td>\n",
       "      <td>5</td>\n",
       "      <td>15.0</td>\n",
       "      <td>175</td>\n",
       "      <td>Smiths</td>\n",
       "    </tr>\n",
       "    <tr>\n",
       "      <th>4</th>\n",
       "      <td>2018-08-18</td>\n",
       "      <td>2</td>\n",
       "      <td>2426</td>\n",
       "      <td>1038</td>\n",
       "      <td>108</td>\n",
       "      <td>Kettle Tortilla ChpsHny&amp;Jlpno Chili 150g</td>\n",
       "      <td>3</td>\n",
       "      <td>13.8</td>\n",
       "      <td>150</td>\n",
       "      <td>Kettle</td>\n",
       "    </tr>\n",
       "  </tbody>\n",
       "</table>\n",
       "</div>"
      ],
      "text/plain": [
       "        date  store_nbr  lylty_card_nbr  txn_id  prod_nbr  \\\n",
       "0 2018-10-17          1            1000       1         5   \n",
       "1 2019-05-14          1            1307     348        66   \n",
       "2 2019-05-20          1            1343     383        61   \n",
       "3 2018-08-17          2            2373     974        69   \n",
       "4 2018-08-18          2            2426    1038       108   \n",
       "\n",
       "                                  prod_name  prod_qty  tot_sales packet_size  \\\n",
       "0    Natural Chip        Compny SeaSalt175g         2        6.0         175   \n",
       "1                  CCs Nacho Cheese    175g         3        6.3         175   \n",
       "2    Smiths Crinkle Cut  Chips Chicken 170g         2        2.9         170   \n",
       "3    Smiths Chip Thinly  S/Cream&Onion 175g         5       15.0         175   \n",
       "4  Kettle Tortilla ChpsHny&Jlpno Chili 150g         3       13.8         150   \n",
       "\n",
       "     brand  \n",
       "0  Natural  \n",
       "1      CCs  \n",
       "2   Smiths  \n",
       "3   Smiths  \n",
       "4   Kettle  "
      ]
     },
     "execution_count": 23,
     "metadata": {},
     "output_type": "execute_result"
    }
   ],
   "source": [
    "# Extracting packet size from product name\n",
    "df_transaction['packet_size'] = df_transaction['prod_name'].str.extract(r'(\\d+)')\n",
    "df_transaction['brand'] = df_transaction['prod_name'].str.split().str[0]\n",
    "\n",
    "print(df_transaction.shape)\n",
    "df_transaction.head()"
   ]
  },
  {
   "cell_type": "code",
   "execution_count": 24,
   "metadata": {},
   "outputs": [
    {
     "data": {
      "text/plain": [
       "array(['175', '170', '150', '300', '330', '210', '270', '220', '125',\n",
       "       '110', '134', '380', '180', '165', '135', '250', '200', '160',\n",
       "       '190', '90', '70'], dtype=object)"
      ]
     },
     "execution_count": 24,
     "metadata": {},
     "output_type": "execute_result"
    }
   ],
   "source": [
    "df_transaction['packet_size'].unique()"
   ]
  },
  {
   "cell_type": "code",
   "execution_count": 25,
   "metadata": {},
   "outputs": [
    {
     "data": {
      "text/plain": [
       "date              0\n",
       "store_nbr         0\n",
       "lylty_card_nbr    0\n",
       "txn_id            0\n",
       "prod_nbr          0\n",
       "prod_name         0\n",
       "prod_qty          0\n",
       "tot_sales         0\n",
       "packet_size       0\n",
       "brand             0\n",
       "dtype: int64"
      ]
     },
     "execution_count": 25,
     "metadata": {},
     "output_type": "execute_result"
    }
   ],
   "source": [
    "df_transaction.isna().sum()"
   ]
  },
  {
   "cell_type": "code",
   "execution_count": 32,
   "metadata": {},
   "outputs": [
    {
     "data": {
      "text/plain": [
       "Text(0, 0.5, 'Total Transactions')"
      ]
     },
     "execution_count": 32,
     "metadata": {},
     "output_type": "execute_result"
    },
    {
     "data": {
      "image/png": "[encoded data removed]",
      "text/plain": [
       "<Figure size 640x480 with 1 Axes>"
      ]
     },
     "metadata": {},
     "output_type": "display_data"
    }
   ],
   "source": [
    "# checking histogram of packet size \n",
    "\n",
    "df_transaction['packet_size'] = df_transaction['packet_size'].astype(int)\n",
    "sns.histplot(df_transaction['packet_size'], binwidth=10)\n",
    "plt.xticks(rotation=90)\n",
    "plt.ylabel(\"Total Transactions\")"
   ]
  },
  {
   "cell_type": "code",
   "execution_count": 28,
   "metadata": {},
   "outputs": [
    {
     "data": {
      "text/html": [
       "<div>\n",
       "<style scoped>\n",
       "    .dataframe tbody tr th:only-of-type {\n",
       "        vertical-align: middle;\n",
       "    }\n",
       "\n",
       "    .dataframe tbody tr th {\n",
       "        vertical-align: top;\n",
       "    }\n",
       "\n",
       "    .dataframe thead th {\n",
       "        text-align: right;\n",
       "    }\n",
       "</style>\n",
       "<table border=\"1\" class=\"dataframe\">\n",
       "  <thead>\n",
       "    <tr style=\"text-align: right;\">\n",
       "      <th></th>\n",
       "      <th>brand</th>\n",
       "      <th>total_qty_sold</th>\n",
       "    </tr>\n",
       "  </thead>\n",
       "  <tbody>\n",
       "    <tr>\n",
       "      <th>12</th>\n",
       "      <td>Kettle</td>\n",
       "      <td>79051</td>\n",
       "    </tr>\n",
       "    <tr>\n",
       "      <th>20</th>\n",
       "      <td>Smiths</td>\n",
       "      <td>54730</td>\n",
       "    </tr>\n",
       "    <tr>\n",
       "      <th>16</th>\n",
       "      <td>Pringles</td>\n",
       "      <td>48019</td>\n",
       "    </tr>\n",
       "    <tr>\n",
       "      <th>6</th>\n",
       "      <td>Doritos</td>\n",
       "      <td>47707</td>\n",
       "    </tr>\n",
       "    <tr>\n",
       "      <th>23</th>\n",
       "      <td>Thins</td>\n",
       "      <td>26929</td>\n",
       "    </tr>\n",
       "    <tr>\n",
       "      <th>17</th>\n",
       "      <td>RRD</td>\n",
       "      <td>22500</td>\n",
       "    </tr>\n",
       "    <tr>\n",
       "      <th>10</th>\n",
       "      <td>Infuzions</td>\n",
       "      <td>21119</td>\n",
       "    </tr>\n",
       "    <tr>\n",
       "      <th>27</th>\n",
       "      <td>WW</td>\n",
       "      <td>19461</td>\n",
       "    </tr>\n",
       "    <tr>\n",
       "      <th>4</th>\n",
       "      <td>Cobs</td>\n",
       "      <td>18571</td>\n",
       "    </tr>\n",
       "    <tr>\n",
       "      <th>24</th>\n",
       "      <td>Tostitos</td>\n",
       "      <td>18134</td>\n",
       "    </tr>\n",
       "  </tbody>\n",
       "</table>\n",
       "</div>"
      ],
      "text/plain": [
       "        brand  total_qty_sold\n",
       "12     Kettle           79051\n",
       "20     Smiths           54730\n",
       "16   Pringles           48019\n",
       "6     Doritos           47707\n",
       "23      Thins           26929\n",
       "17        RRD           22500\n",
       "10  Infuzions           21119\n",
       "27         WW           19461\n",
       "4        Cobs           18571\n",
       "24   Tostitos           18134"
      ]
     },
     "execution_count": 28,
     "metadata": {},
     "output_type": "execute_result"
    }
   ],
   "source": [
    "# Extracting top 10 brand in terms of quantity sold\n",
    "df_transaction_grp = df_transaction.groupby(['brand']).agg(total_qty_sold = ('prod_qty', 'sum')).reset_index()\n",
    "df_transaction_grp = df_transaction_grp.sort_values(by = ['total_qty_sold'], ascending = False).head(10)\n",
    "df_transaction_grp"
   ]
  },
  {
   "cell_type": "code",
   "execution_count": 30,
   "metadata": {},
   "outputs": [
    {
     "data": {
      "text/plain": [
       "(array([0, 1, 2, 3, 4, 5, 6, 7, 8, 9]),\n",
       " [Text(0, 0, 'Kettle'),\n",
       "  Text(1, 0, 'Smiths'),\n",
       "  Text(2, 0, 'Pringles'),\n",
       "  Text(3, 0, 'Doritos'),\n",
       "  Text(4, 0, 'Thins'),\n",
       "  Text(5, 0, 'RRD'),\n",
       "  Text(6, 0, 'Infuzions'),\n",
       "  Text(7, 0, 'WW'),\n",
       "  Text(8, 0, 'Cobs'),\n",
       "  Text(9, 0, 'Tostitos')])"
      ]
     },
     "execution_count": 30,
     "metadata": {},
     "output_type": "execute_result"
    },
    {
     "data": {
      "image/png": "[encoded data removed]",
      "text/plain": [
       "<Figure size 640x480 with 1 Axes>"
      ]
     },
     "metadata": {},
     "output_type": "display_data"
    }
   ],
   "source": [
    "# plotting above data \n",
    "sns.barplot(data = df_transaction_grp, x = 'brand', y = 'total_qty_sold')\n",
    "plt.xticks(rotation=90)"
   ]
  },
  {
   "cell_type": "markdown",
   "metadata": {},
   "source": [
    "##### Kettle brand is getting sold in large quantity as compare to other brands"
   ]
  },
  {
   "cell_type": "code",
   "execution_count": 33,
   "metadata": {},
   "outputs": [
    {
     "data": {
      "text/html": [
       "<div>\n",
       "<style scoped>\n",
       "    .dataframe tbody tr th:only-of-type {\n",
       "        vertical-align: middle;\n",
       "    }\n",
       "\n",
       "    .dataframe tbody tr th {\n",
       "        vertical-align: top;\n",
       "    }\n",
       "\n",
       "    .dataframe thead th {\n",
       "        text-align: right;\n",
       "    }\n",
       "</style>\n",
       "<table border=\"1\" class=\"dataframe\">\n",
       "  <thead>\n",
       "    <tr style=\"text-align: right;\">\n",
       "      <th></th>\n",
       "      <th>lylty_card_nbr</th>\n",
       "      <th>lifestage</th>\n",
       "      <th>premium_customer</th>\n",
       "    </tr>\n",
       "  </thead>\n",
       "  <tbody>\n",
       "    <tr>\n",
       "      <th>0</th>\n",
       "      <td>1000</td>\n",
       "      <td>YOUNG SINGLES/COUPLES</td>\n",
       "      <td>Premium</td>\n",
       "    </tr>\n",
       "    <tr>\n",
       "      <th>1</th>\n",
       "      <td>1002</td>\n",
       "      <td>YOUNG SINGLES/COUPLES</td>\n",
       "      <td>Mainstream</td>\n",
       "    </tr>\n",
       "    <tr>\n",
       "      <th>2</th>\n",
       "      <td>1003</td>\n",
       "      <td>YOUNG FAMILIES</td>\n",
       "      <td>Budget</td>\n",
       "    </tr>\n",
       "    <tr>\n",
       "      <th>3</th>\n",
       "      <td>1004</td>\n",
       "      <td>OLDER SINGLES/COUPLES</td>\n",
       "      <td>Mainstream</td>\n",
       "    </tr>\n",
       "    <tr>\n",
       "      <th>4</th>\n",
       "      <td>1005</td>\n",
       "      <td>MIDAGE SINGLES/COUPLES</td>\n",
       "      <td>Mainstream</td>\n",
       "    </tr>\n",
       "  </tbody>\n",
       "</table>\n",
       "</div>"
      ],
      "text/plain": [
       "   lylty_card_nbr               lifestage premium_customer\n",
       "0            1000   YOUNG SINGLES/COUPLES          Premium\n",
       "1            1002   YOUNG SINGLES/COUPLES       Mainstream\n",
       "2            1003          YOUNG FAMILIES           Budget\n",
       "3            1004   OLDER SINGLES/COUPLES       Mainstream\n",
       "4            1005  MIDAGE SINGLES/COUPLES       Mainstream"
      ]
     },
     "execution_count": 33,
     "metadata": {},
     "output_type": "execute_result"
    }
   ],
   "source": [
    "# analysing customer data\n",
    "df_customer.head()"
   ]
  },
  {
   "cell_type": "code",
   "execution_count": 34,
   "metadata": {},
   "outputs": [
    {
     "data": {
      "text/plain": [
       "Text(0, 0.5, 'Total Customers')"
      ]
     },
     "execution_count": 34,
     "metadata": {},
     "output_type": "execute_result"
    },
    {
     "data": {
      "image/png": "[encoded data removed]",
      "text/plain": [
       "<Figure size 640x480 with 1 Axes>"
      ]
     },
     "metadata": {},
     "output_type": "display_data"
    }
   ],
   "source": [
    "sns.histplot(df_customer['lifestage'])\n",
    "plt.xticks(rotation=90)\n",
    "plt.ylabel(\"Total Customers\")"
   ]
  },
  {
   "cell_type": "code",
   "execution_count": 35,
   "metadata": {},
   "outputs": [
    {
     "data": {
      "text/plain": [
       "Text(0, 0.5, 'Total Customers')"
      ]
     },
     "execution_count": 35,
     "metadata": {},
     "output_type": "execute_result"
    },
    {
     "data": {
      "image/png": "[encoded data removed]",
      "text/plain": [
       "<Figure size 640x480 with 1 Axes>"
      ]
     },
     "metadata": {},
     "output_type": "display_data"
    }
   ],
   "source": [
    "sns.histplot(df_customer['premium_customer'])\n",
    "plt.xticks(rotation=90)\n",
    "plt.ylabel(\"Total Customers\")"
   ]
  },
  {
   "cell_type": "code",
   "execution_count": 37,
   "metadata": {},
   "outputs": [
    {
     "name": "stdout",
     "output_type": "stream",
     "text": [
      "(264834, 10)\n"
     ]
    },
    {
     "name": "stdout",
     "output_type": "stream",
     "text": [
      "(264834, 12)\n"
     ]
    },
    {
     "data": {
      "text/html": [
       "<div>\n",
       "<style scoped>\n",
       "    .dataframe tbody tr th:only-of-type {\n",
       "        vertical-align: middle;\n",
       "    }\n",
       "\n",
       "    .dataframe tbody tr th {\n",
       "        vertical-align: top;\n",
       "    }\n",
       "\n",
       "    .dataframe thead th {\n",
       "        text-align: right;\n",
       "    }\n",
       "</style>\n",
       "<table border=\"1\" class=\"dataframe\">\n",
       "  <thead>\n",
       "    <tr style=\"text-align: right;\">\n",
       "      <th></th>\n",
       "      <th>date</th>\n",
       "      <th>store_nbr</th>\n",
       "      <th>lylty_card_nbr</th>\n",
       "      <th>txn_id</th>\n",
       "      <th>prod_nbr</th>\n",
       "      <th>prod_name</th>\n",
       "      <th>prod_qty</th>\n",
       "      <th>tot_sales</th>\n",
       "      <th>packet_size</th>\n",
       "      <th>brand</th>\n",
       "      <th>lifestage</th>\n",
       "      <th>premium_customer</th>\n",
       "    </tr>\n",
       "  </thead>\n",
       "  <tbody>\n",
       "    <tr>\n",
       "      <th>0</th>\n",
       "      <td>2018-10-17</td>\n",
       "      <td>1</td>\n",
       "      <td>1000</td>\n",
       "      <td>1</td>\n",
       "      <td>5</td>\n",
       "      <td>Natural Chip        Compny SeaSalt175g</td>\n",
       "      <td>2</td>\n",
       "      <td>6.0</td>\n",
       "      <td>175</td>\n",
       "      <td>Natural</td>\n",
       "      <td>YOUNG SINGLES/COUPLES</td>\n",
       "      <td>Premium</td>\n",
       "    </tr>\n",
       "    <tr>\n",
       "      <th>1</th>\n",
       "      <td>2019-05-14</td>\n",
       "      <td>1</td>\n",
       "      <td>1307</td>\n",
       "      <td>348</td>\n",
       "      <td>66</td>\n",
       "      <td>CCs Nacho Cheese    175g</td>\n",
       "      <td>3</td>\n",
       "      <td>6.3</td>\n",
       "      <td>175</td>\n",
       "      <td>CCs</td>\n",
       "      <td>MIDAGE SINGLES/COUPLES</td>\n",
       "      <td>Budget</td>\n",
       "    </tr>\n",
       "    <tr>\n",
       "      <th>2</th>\n",
       "      <td>2019-05-20</td>\n",
       "      <td>1</td>\n",
       "      <td>1343</td>\n",
       "      <td>383</td>\n",
       "      <td>61</td>\n",
       "      <td>Smiths Crinkle Cut  Chips Chicken 170g</td>\n",
       "      <td>2</td>\n",
       "      <td>2.9</td>\n",
       "      <td>170</td>\n",
       "      <td>Smiths</td>\n",
       "      <td>MIDAGE SINGLES/COUPLES</td>\n",
       "      <td>Budget</td>\n",
       "    </tr>\n",
       "    <tr>\n",
       "      <th>3</th>\n",
       "      <td>2018-08-17</td>\n",
       "      <td>2</td>\n",
       "      <td>2373</td>\n",
       "      <td>974</td>\n",
       "      <td>69</td>\n",
       "      <td>Smiths Chip Thinly  S/Cream&amp;Onion 175g</td>\n",
       "      <td>5</td>\n",
       "      <td>15.0</td>\n",
       "      <td>175</td>\n",
       "      <td>Smiths</td>\n",
       "      <td>MIDAGE SINGLES/COUPLES</td>\n",
       "      <td>Budget</td>\n",
       "    </tr>\n",
       "    <tr>\n",
       "      <th>4</th>\n",
       "      <td>2018-08-18</td>\n",
       "      <td>2</td>\n",
       "      <td>2426</td>\n",
       "      <td>1038</td>\n",
       "      <td>108</td>\n",
       "      <td>Kettle Tortilla ChpsHny&amp;Jlpno Chili 150g</td>\n",
       "      <td>3</td>\n",
       "      <td>13.8</td>\n",
       "      <td>150</td>\n",
       "      <td>Kettle</td>\n",
       "      <td>MIDAGE SINGLES/COUPLES</td>\n",
       "      <td>Budget</td>\n",
       "    </tr>\n",
       "  </tbody>\n",
       "</table>\n",
       "</div>"
      ],
      "text/plain": [
       "        date  store_nbr  lylty_card_nbr  txn_id  prod_nbr  \\\n",
       "0 2018-10-17          1            1000       1         5   \n",
       "1 2019-05-14          1            1307     348        66   \n",
       "2 2019-05-20          1            1343     383        61   \n",
       "3 2018-08-17          2            2373     974        69   \n",
       "4 2018-08-18          2            2426    1038       108   \n",
       "\n",
       "                                  prod_name  prod_qty  tot_sales  packet_size  \\\n",
       "0    Natural Chip        Compny SeaSalt175g         2        6.0          175   \n",
       "1                  CCs Nacho Cheese    175g         3        6.3          175   \n",
       "2    Smiths Crinkle Cut  Chips Chicken 170g         2        2.9          170   \n",
       "3    Smiths Chip Thinly  S/Cream&Onion 175g         5       15.0          175   \n",
       "4  Kettle Tortilla ChpsHny&Jlpno Chili 150g         3       13.8          150   \n",
       "\n",
       "     brand               lifestage premium_customer  \n",
       "0  Natural   YOUNG SINGLES/COUPLES          Premium  \n",
       "1      CCs  MIDAGE SINGLES/COUPLES           Budget  \n",
       "2   Smiths  MIDAGE SINGLES/COUPLES           Budget  \n",
       "3   Smiths  MIDAGE SINGLES/COUPLES           Budget  \n",
       "4   Kettle  MIDAGE SINGLES/COUPLES           Budget  "
      ]
     },
     "execution_count": 37,
     "metadata": {},
     "output_type": "execute_result"
    }
   ],
   "source": [
    "# merging transaction data with customer data\n",
    "print(df_transaction.shape)\n",
    "df_transaction = df_transaction.merge(df_customer, on = ['lylty_card_nbr'], how = 'left')\n",
    "print(df_transaction.shape)\n",
    "df_transaction.head()"
   ]
  },
  {
   "cell_type": "code",
   "execution_count": 38,
   "metadata": {},
   "outputs": [
    {
     "data": {
      "text/plain": [
       "date                0\n",
       "store_nbr           0\n",
       "lylty_card_nbr      0\n",
       "txn_id              0\n",
       "prod_nbr            0\n",
       "prod_name           0\n",
       "prod_qty            0\n",
       "tot_sales           0\n",
       "packet_size         0\n",
       "brand               0\n",
       "lifestage           0\n",
       "premium_customer    0\n",
       "dtype: int64"
      ]
     },
     "execution_count": 38,
     "metadata": {},
     "output_type": "execute_result"
    }
   ],
   "source": [
    "df_transaction.isna().sum()"
   ]
  },
  {
   "cell_type": "code",
   "execution_count": 39,
   "metadata": {},
   "outputs": [
    {
     "name": "stdout",
     "output_type": "stream",
     "text": [
      "(21, 7)\n"
     ]
    },
    {
     "data": {
      "text/html": [
       "<div>\n",
       "<style scoped>\n",
       "    .dataframe tbody tr th:only-of-type {\n",
       "        vertical-align: middle;\n",
       "    }\n",
       "\n",
       "    .dataframe tbody tr th {\n",
       "        vertical-align: top;\n",
       "    }\n",
       "\n",
       "    .dataframe thead th {\n",
       "        text-align: right;\n",
       "    }\n",
       "</style>\n",
       "<table border=\"1\" class=\"dataframe\">\n",
       "  <thead>\n",
       "    <tr style=\"text-align: right;\">\n",
       "      <th></th>\n",
       "      <th>lifestage</th>\n",
       "      <th>premium_customer</th>\n",
       "      <th>total_sales</th>\n",
       "      <th>total_customers</th>\n",
       "      <th>total_chips</th>\n",
       "      <th>chips_per_customer</th>\n",
       "      <th>price_per_chip</th>\n",
       "    </tr>\n",
       "  </thead>\n",
       "  <tbody>\n",
       "    <tr>\n",
       "      <th>0</th>\n",
       "      <td>MIDAGE SINGLES/COUPLES</td>\n",
       "      <td>Budget</td>\n",
       "      <td>35514.80</td>\n",
       "      <td>1504</td>\n",
       "      <td>9496</td>\n",
       "      <td>6.313830</td>\n",
       "      <td>3.739975</td>\n",
       "    </tr>\n",
       "    <tr>\n",
       "      <th>1</th>\n",
       "      <td>MIDAGE SINGLES/COUPLES</td>\n",
       "      <td>Mainstream</td>\n",
       "      <td>90803.85</td>\n",
       "      <td>3340</td>\n",
       "      <td>22699</td>\n",
       "      <td>6.796108</td>\n",
       "      <td>4.000346</td>\n",
       "    </tr>\n",
       "    <tr>\n",
       "      <th>2</th>\n",
       "      <td>MIDAGE SINGLES/COUPLES</td>\n",
       "      <td>Premium</td>\n",
       "      <td>58432.65</td>\n",
       "      <td>2431</td>\n",
       "      <td>15526</td>\n",
       "      <td>6.386672</td>\n",
       "      <td>3.763535</td>\n",
       "    </tr>\n",
       "    <tr>\n",
       "      <th>3</th>\n",
       "      <td>NEW FAMILIES</td>\n",
       "      <td>Budget</td>\n",
       "      <td>21928.45</td>\n",
       "      <td>1112</td>\n",
       "      <td>5571</td>\n",
       "      <td>5.009892</td>\n",
       "      <td>3.936178</td>\n",
       "    </tr>\n",
       "    <tr>\n",
       "      <th>4</th>\n",
       "      <td>NEW FAMILIES</td>\n",
       "      <td>Mainstream</td>\n",
       "      <td>17013.90</td>\n",
       "      <td>849</td>\n",
       "      <td>4319</td>\n",
       "      <td>5.087161</td>\n",
       "      <td>3.939315</td>\n",
       "    </tr>\n",
       "  </tbody>\n",
       "</table>\n",
       "</div>"
      ],
      "text/plain": [
       "                lifestage premium_customer  total_sales  total_customers  \\\n",
       "0  MIDAGE SINGLES/COUPLES           Budget     35514.80             1504   \n",
       "1  MIDAGE SINGLES/COUPLES       Mainstream     90803.85             3340   \n",
       "2  MIDAGE SINGLES/COUPLES          Premium     58432.65             2431   \n",
       "3            NEW FAMILIES           Budget     21928.45             1112   \n",
       "4            NEW FAMILIES       Mainstream     17013.90              849   \n",
       "\n",
       "   total_chips  chips_per_customer  price_per_chip  \n",
       "0         9496            6.313830        3.739975  \n",
       "1        22699            6.796108        4.000346  \n",
       "2        15526            6.386672        3.763535  \n",
       "3         5571            5.009892        3.936178  \n",
       "4         4319            5.087161        3.939315  "
      ]
     },
     "execution_count": 39,
     "metadata": {},
     "output_type": "execute_result"
    }
   ],
   "source": [
    "# calculating metrics at lifestage and premium_customer level\n",
    "df_transaction_grp = df_transaction.groupby(['lifestage', 'premium_customer']).agg(total_sales = ('tot_sales', 'sum'), total_customers = ('lylty_card_nbr', 'nunique'), total_chips = ('prod_qty', 'sum')).reset_index()\n",
    "\n",
    "df_transaction_grp['chips_per_customer'] = df_transaction_grp['total_chips'].div(df_transaction_grp['total_customers'].where(df_transaction_grp['total_customers']!=0, np.nan))\n",
    "df_transaction_grp['price_per_chip'] = df_transaction_grp['total_sales'].div(df_transaction_grp['total_chips'].where(df_transaction_grp['total_chips']!=0, np.nan))\n",
    "\n",
    "\n",
    "print(df_transaction_grp.shape)\n",
    "df_transaction_grp.head()\n"
   ]
  },
  {
   "cell_type": "code",
   "execution_count": 40,
   "metadata": {},
   "outputs": [
    {
     "data": {
      "text/html": [
       "<div>\n",
       "<style scoped>\n",
       "    .dataframe tbody tr th:only-of-type {\n",
       "        vertical-align: middle;\n",
       "    }\n",
       "\n",
       "    .dataframe tbody tr th {\n",
       "        vertical-align: top;\n",
       "    }\n",
       "\n",
       "    .dataframe thead th {\n",
       "        text-align: right;\n",
       "    }\n",
       "</style>\n",
       "<table border=\"1\" class=\"dataframe\">\n",
       "  <thead>\n",
       "    <tr style=\"text-align: right;\">\n",
       "      <th></th>\n",
       "      <th>lifestage</th>\n",
       "      <th>premium_customer</th>\n",
       "      <th>total_sales</th>\n",
       "      <th>total_customers</th>\n",
       "      <th>total_chips</th>\n",
       "      <th>chips_per_customer</th>\n",
       "      <th>price_per_chip</th>\n",
       "    </tr>\n",
       "  </thead>\n",
       "  <tbody>\n",
       "    <tr>\n",
       "      <th>6</th>\n",
       "      <td>OLDER FAMILIES</td>\n",
       "      <td>Budget</td>\n",
       "      <td>168363.25</td>\n",
       "      <td>4675</td>\n",
       "      <td>45065</td>\n",
       "      <td>9.639572</td>\n",
       "      <td>3.736009</td>\n",
       "    </tr>\n",
       "    <tr>\n",
       "      <th>19</th>\n",
       "      <td>YOUNG SINGLES/COUPLES</td>\n",
       "      <td>Mainstream</td>\n",
       "      <td>157621.60</td>\n",
       "      <td>8088</td>\n",
       "      <td>38632</td>\n",
       "      <td>4.776459</td>\n",
       "      <td>4.080079</td>\n",
       "    </tr>\n",
       "    <tr>\n",
       "      <th>13</th>\n",
       "      <td>RETIREES</td>\n",
       "      <td>Mainstream</td>\n",
       "      <td>155677.05</td>\n",
       "      <td>6479</td>\n",
       "      <td>40518</td>\n",
       "      <td>6.253743</td>\n",
       "      <td>3.842170</td>\n",
       "    </tr>\n",
       "    <tr>\n",
       "      <th>15</th>\n",
       "      <td>YOUNG FAMILIES</td>\n",
       "      <td>Budget</td>\n",
       "      <td>139345.85</td>\n",
       "      <td>4017</td>\n",
       "      <td>37111</td>\n",
       "      <td>9.238486</td>\n",
       "      <td>3.754840</td>\n",
       "    </tr>\n",
       "    <tr>\n",
       "      <th>9</th>\n",
       "      <td>OLDER SINGLES/COUPLES</td>\n",
       "      <td>Budget</td>\n",
       "      <td>136769.80</td>\n",
       "      <td>4929</td>\n",
       "      <td>35220</td>\n",
       "      <td>7.145466</td>\n",
       "      <td>3.883299</td>\n",
       "    </tr>\n",
       "    <tr>\n",
       "      <th>10</th>\n",
       "      <td>OLDER SINGLES/COUPLES</td>\n",
       "      <td>Mainstream</td>\n",
       "      <td>133393.80</td>\n",
       "      <td>4930</td>\n",
       "      <td>34997</td>\n",
       "      <td>7.098783</td>\n",
       "      <td>3.811578</td>\n",
       "    </tr>\n",
       "    <tr>\n",
       "      <th>11</th>\n",
       "      <td>OLDER SINGLES/COUPLES</td>\n",
       "      <td>Premium</td>\n",
       "      <td>132263.15</td>\n",
       "      <td>4750</td>\n",
       "      <td>33986</td>\n",
       "      <td>7.154947</td>\n",
       "      <td>3.891695</td>\n",
       "    </tr>\n",
       "    <tr>\n",
       "      <th>12</th>\n",
       "      <td>RETIREES</td>\n",
       "      <td>Budget</td>\n",
       "      <td>113147.80</td>\n",
       "      <td>4454</td>\n",
       "      <td>28764</td>\n",
       "      <td>6.458015</td>\n",
       "      <td>3.933660</td>\n",
       "    </tr>\n",
       "    <tr>\n",
       "      <th>7</th>\n",
       "      <td>OLDER FAMILIES</td>\n",
       "      <td>Mainstream</td>\n",
       "      <td>103445.55</td>\n",
       "      <td>2831</td>\n",
       "      <td>27756</td>\n",
       "      <td>9.804309</td>\n",
       "      <td>3.726962</td>\n",
       "    </tr>\n",
       "    <tr>\n",
       "      <th>14</th>\n",
       "      <td>RETIREES</td>\n",
       "      <td>Premium</td>\n",
       "      <td>97646.05</td>\n",
       "      <td>3872</td>\n",
       "      <td>24884</td>\n",
       "      <td>6.426653</td>\n",
       "      <td>3.924050</td>\n",
       "    </tr>\n",
       "    <tr>\n",
       "      <th>16</th>\n",
       "      <td>YOUNG FAMILIES</td>\n",
       "      <td>Mainstream</td>\n",
       "      <td>92788.75</td>\n",
       "      <td>2728</td>\n",
       "      <td>25044</td>\n",
       "      <td>9.180352</td>\n",
       "      <td>3.705029</td>\n",
       "    </tr>\n",
       "    <tr>\n",
       "      <th>1</th>\n",
       "      <td>MIDAGE SINGLES/COUPLES</td>\n",
       "      <td>Mainstream</td>\n",
       "      <td>90803.85</td>\n",
       "      <td>3340</td>\n",
       "      <td>22699</td>\n",
       "      <td>6.796108</td>\n",
       "      <td>4.000346</td>\n",
       "    </tr>\n",
       "    <tr>\n",
       "      <th>17</th>\n",
       "      <td>YOUNG FAMILIES</td>\n",
       "      <td>Premium</td>\n",
       "      <td>84025.50</td>\n",
       "      <td>2433</td>\n",
       "      <td>22406</td>\n",
       "      <td>9.209207</td>\n",
       "      <td>3.750134</td>\n",
       "    </tr>\n",
       "    <tr>\n",
       "      <th>8</th>\n",
       "      <td>OLDER FAMILIES</td>\n",
       "      <td>Premium</td>\n",
       "      <td>80658.40</td>\n",
       "      <td>2273</td>\n",
       "      <td>21771</td>\n",
       "      <td>9.578091</td>\n",
       "      <td>3.704855</td>\n",
       "    </tr>\n",
       "    <tr>\n",
       "      <th>18</th>\n",
       "      <td>YOUNG SINGLES/COUPLES</td>\n",
       "      <td>Budget</td>\n",
       "      <td>61141.60</td>\n",
       "      <td>3779</td>\n",
       "      <td>16671</td>\n",
       "      <td>4.411485</td>\n",
       "      <td>3.667542</td>\n",
       "    </tr>\n",
       "    <tr>\n",
       "      <th>2</th>\n",
       "      <td>MIDAGE SINGLES/COUPLES</td>\n",
       "      <td>Premium</td>\n",
       "      <td>58432.65</td>\n",
       "      <td>2431</td>\n",
       "      <td>15526</td>\n",
       "      <td>6.386672</td>\n",
       "      <td>3.763535</td>\n",
       "    </tr>\n",
       "    <tr>\n",
       "      <th>20</th>\n",
       "      <td>YOUNG SINGLES/COUPLES</td>\n",
       "      <td>Premium</td>\n",
       "      <td>41642.10</td>\n",
       "      <td>2574</td>\n",
       "      <td>11331</td>\n",
       "      <td>4.402098</td>\n",
       "      <td>3.675060</td>\n",
       "    </tr>\n",
       "    <tr>\n",
       "      <th>0</th>\n",
       "      <td>MIDAGE SINGLES/COUPLES</td>\n",
       "      <td>Budget</td>\n",
       "      <td>35514.80</td>\n",
       "      <td>1504</td>\n",
       "      <td>9496</td>\n",
       "      <td>6.313830</td>\n",
       "      <td>3.739975</td>\n",
       "    </tr>\n",
       "    <tr>\n",
       "      <th>3</th>\n",
       "      <td>NEW FAMILIES</td>\n",
       "      <td>Budget</td>\n",
       "      <td>21928.45</td>\n",
       "      <td>1112</td>\n",
       "      <td>5571</td>\n",
       "      <td>5.009892</td>\n",
       "      <td>3.936178</td>\n",
       "    </tr>\n",
       "    <tr>\n",
       "      <th>4</th>\n",
       "      <td>NEW FAMILIES</td>\n",
       "      <td>Mainstream</td>\n",
       "      <td>17013.90</td>\n",
       "      <td>849</td>\n",
       "      <td>4319</td>\n",
       "      <td>5.087161</td>\n",
       "      <td>3.939315</td>\n",
       "    </tr>\n",
       "    <tr>\n",
       "      <th>5</th>\n",
       "      <td>NEW FAMILIES</td>\n",
       "      <td>Premium</td>\n",
       "      <td>11491.10</td>\n",
       "      <td>588</td>\n",
       "      <td>2957</td>\n",
       "      <td>5.028912</td>\n",
       "      <td>3.886067</td>\n",
       "    </tr>\n",
       "  </tbody>\n",
       "</table>\n",
       "</div>"
      ],
      "text/plain": [
       "                 lifestage premium_customer  total_sales  total_customers  \\\n",
       "6           OLDER FAMILIES           Budget    168363.25             4675   \n",
       "19   YOUNG SINGLES/COUPLES       Mainstream    157621.60             8088   \n",
       "13                RETIREES       Mainstream    155677.05             6479   \n",
       "15          YOUNG FAMILIES           Budget    139345.85             4017   \n",
       "9    OLDER SINGLES/COUPLES           Budget    136769.80             4929   \n",
       "10   OLDER SINGLES/COUPLES       Mainstream    133393.80             4930   \n",
       "11   OLDER SINGLES/COUPLES          Premium    132263.15             4750   \n",
       "12                RETIREES           Budget    113147.80             4454   \n",
       "7           OLDER FAMILIES       Mainstream    103445.55             2831   \n",
       "14                RETIREES          Premium     97646.05             3872   \n",
       "16          YOUNG FAMILIES       Mainstream     92788.75             2728   \n",
       "1   MIDAGE SINGLES/COUPLES       Mainstream     90803.85             3340   \n",
       "17          YOUNG FAMILIES          Premium     84025.50             2433   \n",
       "8           OLDER FAMILIES          Premium     80658.40             2273   \n",
       "18   YOUNG SINGLES/COUPLES           Budget     61141.60             3779   \n",
       "2   MIDAGE SINGLES/COUPLES          Premium     58432.65             2431   \n",
       "20   YOUNG SINGLES/COUPLES          Premium     41642.10             2574   \n",
       "0   MIDAGE SINGLES/COUPLES           Budget     35514.80             1504   \n",
       "3             NEW FAMILIES           Budget     21928.45             1112   \n",
       "4             NEW FAMILIES       Mainstream     17013.90              849   \n",
       "5             NEW FAMILIES          Premium     11491.10              588   \n",
       "\n",
       "    total_chips  chips_per_customer  price_per_chip  \n",
       "6         45065            9.639572        3.736009  \n",
       "19        38632            4.776459        4.080079  \n",
       "13        40518            6.253743        3.842170  \n",
       "15        37111            9.238486        3.754840  \n",
       "9         35220            7.145466        3.883299  \n",
       "10        34997            7.098783        3.811578  \n",
       "11        33986            7.154947        3.891695  \n",
       "12        28764            6.458015        3.933660  \n",
       "7         27756            9.804309        3.726962  \n",
       "14        24884            6.426653        3.924050  \n",
       "16        25044            9.180352        3.705029  \n",
       "1         22699            6.796108        4.000346  \n",
       "17        22406            9.209207        3.750134  \n",
       "8         21771            9.578091        3.704855  \n",
       "18        16671            4.411485        3.667542  \n",
       "2         15526            6.386672        3.763535  \n",
       "20        11331            4.402098        3.675060  \n",
       "0          9496            6.313830        3.739975  \n",
       "3          5571            5.009892        3.936178  \n",
       "4          4319            5.087161        3.939315  \n",
       "5          2957            5.028912        3.886067  "
      ]
     },
     "execution_count": 40,
     "metadata": {},
     "output_type": "execute_result"
    }
   ],
   "source": [
    "df_transaction_grp.sort_values( by = ['total_sales'], ascending = False)"
   ]
  },
  {
   "cell_type": "markdown",
   "metadata": {},
   "source": [
    "##### Conclusion - \n",
    "(1) Most sales coming from OLDER FAMILIES - Budget, YOUNG SINGLES/COUPLES - Mainstream, RETIREES - Mainstream, These segment also has good numbers of customers. We can target these segments to increase the revenue. \n",
    "\n",
    "(2) Segments like OLDER FAMILIES - Budget, YOUNG FAMILIES - Budget, OLDER FAMILIES - Mainstream, YOUNG FAMILIES\tMainstream etc .. has more chips per customers, means they purchage in large quantity as compare to other segments.\n",
    "\n",
    "(3) Segments like YOUNG SINGLES/COUPLES-Mainstream, MIDAGE SINGLES/COUPLES - Mainstream\thas more price per chip number, means they spend more amount per chip than other segements. May be we can target these segmemnts if want to sell expensive chips.\n",
    "\n"
   ]
  },
  {
   "cell_type": "code",
   "execution_count": 95,
   "metadata": {},
   "outputs": [
    {
     "name": "stdout",
     "output_type": "stream",
     "text": [
      "(19544, 13)\n"
     ]
    },
    {
     "data": {
      "text/html": [
       "<div>\n",
       "<style scoped>\n",
       "    .dataframe tbody tr th:only-of-type {\n",
       "        vertical-align: middle;\n",
       "    }\n",
       "\n",
       "    .dataframe tbody tr th {\n",
       "        vertical-align: top;\n",
       "    }\n",
       "\n",
       "    .dataframe thead th {\n",
       "        text-align: right;\n",
       "    }\n",
       "</style>\n",
       "<table border=\"1\" class=\"dataframe\">\n",
       "  <thead>\n",
       "    <tr style=\"text-align: right;\">\n",
       "      <th></th>\n",
       "      <th>date</th>\n",
       "      <th>store_nbr</th>\n",
       "      <th>lylty_card_nbr</th>\n",
       "      <th>txn_id</th>\n",
       "      <th>prod_nbr</th>\n",
       "      <th>prod_name</th>\n",
       "      <th>prod_qty</th>\n",
       "      <th>tot_sales</th>\n",
       "      <th>prod_name_filt</th>\n",
       "      <th>packet_size</th>\n",
       "      <th>brand</th>\n",
       "      <th>lifestage</th>\n",
       "      <th>premium_customer</th>\n",
       "    </tr>\n",
       "  </thead>\n",
       "  <tbody>\n",
       "    <tr>\n",
       "      <th>221345</th>\n",
       "      <td>2018-08-16</td>\n",
       "      <td>1</td>\n",
       "      <td>1020</td>\n",
       "      <td>26</td>\n",
       "      <td>19</td>\n",
       "      <td>Smiths Crinkle Cut  Snag&amp;Sauce 150g</td>\n",
       "      <td>1</td>\n",
       "      <td>2.6</td>\n",
       "      <td>Smiths Crinkle Cut  SnagSauce g</td>\n",
       "      <td>150</td>\n",
       "      <td>Smiths</td>\n",
       "      <td>YOUNG SINGLES/COUPLES</td>\n",
       "      <td>Mainstream</td>\n",
       "    </tr>\n",
       "    <tr>\n",
       "      <th>221346</th>\n",
       "      <td>2018-08-17</td>\n",
       "      <td>1</td>\n",
       "      <td>1163</td>\n",
       "      <td>188</td>\n",
       "      <td>46</td>\n",
       "      <td>Kettle Original 175g</td>\n",
       "      <td>1</td>\n",
       "      <td>5.4</td>\n",
       "      <td>Kettle Original g</td>\n",
       "      <td>175</td>\n",
       "      <td>Kettle</td>\n",
       "      <td>YOUNG SINGLES/COUPLES</td>\n",
       "      <td>Mainstream</td>\n",
       "    </tr>\n",
       "    <tr>\n",
       "      <th>221347</th>\n",
       "      <td>2018-08-14</td>\n",
       "      <td>1</td>\n",
       "      <td>1291</td>\n",
       "      <td>333</td>\n",
       "      <td>27</td>\n",
       "      <td>WW Supreme Cheese   Corn Chips 200g</td>\n",
       "      <td>1</td>\n",
       "      <td>1.9</td>\n",
       "      <td>WW Supreme Cheese   Corn Chips g</td>\n",
       "      <td>200</td>\n",
       "      <td>WW</td>\n",
       "      <td>YOUNG SINGLES/COUPLES</td>\n",
       "      <td>Mainstream</td>\n",
       "    </tr>\n",
       "    <tr>\n",
       "      <th>221348</th>\n",
       "      <td>2019-05-15</td>\n",
       "      <td>3</td>\n",
       "      <td>3031</td>\n",
       "      <td>1227</td>\n",
       "      <td>14</td>\n",
       "      <td>Smiths Crnkle Chip  Orgnl Big Bag 380g</td>\n",
       "      <td>1</td>\n",
       "      <td>5.9</td>\n",
       "      <td>Smiths Crnkle Chip  Orgnl Big Bag g</td>\n",
       "      <td>380</td>\n",
       "      <td>Smiths</td>\n",
       "      <td>YOUNG SINGLES/COUPLES</td>\n",
       "      <td>Mainstream</td>\n",
       "    </tr>\n",
       "    <tr>\n",
       "      <th>221349</th>\n",
       "      <td>2019-05-18</td>\n",
       "      <td>3</td>\n",
       "      <td>3118</td>\n",
       "      <td>1574</td>\n",
       "      <td>62</td>\n",
       "      <td>Pringles Mystery    Flavour 134g</td>\n",
       "      <td>1</td>\n",
       "      <td>3.7</td>\n",
       "      <td>Pringles Mystery    Flavour g</td>\n",
       "      <td>134</td>\n",
       "      <td>Pringles</td>\n",
       "      <td>YOUNG SINGLES/COUPLES</td>\n",
       "      <td>Mainstream</td>\n",
       "    </tr>\n",
       "  </tbody>\n",
       "</table>\n",
       "</div>"
      ],
      "text/plain": [
       "             date  store_nbr  lylty_card_nbr  txn_id  prod_nbr  \\\n",
       "221345 2018-08-16          1            1020      26        19   \n",
       "221346 2018-08-17          1            1163     188        46   \n",
       "221347 2018-08-14          1            1291     333        27   \n",
       "221348 2019-05-15          3            3031    1227        14   \n",
       "221349 2019-05-18          3            3118    1574        62   \n",
       "\n",
       "                                     prod_name  prod_qty  tot_sales  \\\n",
       "221345     Smiths Crinkle Cut  Snag&Sauce 150g         1        2.6   \n",
       "221346                    Kettle Original 175g         1        5.4   \n",
       "221347     WW Supreme Cheese   Corn Chips 200g         1        1.9   \n",
       "221348  Smiths Crnkle Chip  Orgnl Big Bag 380g         1        5.9   \n",
       "221349        Pringles Mystery    Flavour 134g         1        3.7   \n",
       "\n",
       "                             prod_name_filt  packet_size     brand  \\\n",
       "221345      Smiths Crinkle Cut  SnagSauce g          150    Smiths   \n",
       "221346                    Kettle Original g          175    Kettle   \n",
       "221347     WW Supreme Cheese   Corn Chips g          200        WW   \n",
       "221348  Smiths Crnkle Chip  Orgnl Big Bag g          380    Smiths   \n",
       "221349        Pringles Mystery    Flavour g          134  Pringles   \n",
       "\n",
       "                    lifestage premium_customer  \n",
       "221345  YOUNG SINGLES/COUPLES       Mainstream  \n",
       "221346  YOUNG SINGLES/COUPLES       Mainstream  \n",
       "221347  YOUNG SINGLES/COUPLES       Mainstream  \n",
       "221348  YOUNG SINGLES/COUPLES       Mainstream  \n",
       "221349  YOUNG SINGLES/COUPLES       Mainstream  "
      ]
     },
     "execution_count": 95,
     "metadata": {},
     "output_type": "execute_result"
    }
   ],
   "source": [
    "# Lets deep dive into Mainstream, young singles/couples\n",
    "df_transaction_filt = df_transaction[(df_transaction['lifestage']=='YOUNG SINGLES/COUPLES') & (df_transaction['premium_customer']=='Mainstream')].copy()\n",
    "print(df_transaction_filt.shape)\n",
    "df_transaction_filt.head()"
   ]
  },
  {
   "cell_type": "code",
   "execution_count": 98,
   "metadata": {},
   "outputs": [
    {
     "data": {
      "text/plain": [
       "Kettle        3844\n",
       "Pringles      2315\n",
       "Doritos       2076\n",
       "Smiths        1790\n",
       "Thins         1166\n",
       "Infuzions      962\n",
       "Twisties       900\n",
       "Tostitos       890\n",
       "RRD            875\n",
       "Cobs           864\n",
       "Tyrrells       619\n",
       "Grain          576\n",
       "WW             423\n",
       "Cheezels       346\n",
       "Natural        321\n",
       "Dorito         303\n",
       "Infzns         288\n",
       "CCs            222\n",
       "Cheetos        166\n",
       "Smith          131\n",
       "French          78\n",
       "NCC             73\n",
       "Snbts           71\n",
       "GrnWves         70\n",
       "Burger          62\n",
       "Sunbites        57\n",
       "Woolworths      56\n",
       "Name: brand, dtype: int64"
      ]
     },
     "execution_count": 98,
     "metadata": {},
     "output_type": "execute_result"
    }
   ],
   "source": [
    "df_transaction_filt['brand'].value_counts()"
   ]
  },
  {
   "cell_type": "code",
   "execution_count": null,
   "metadata": {},
   "outputs": [],
   "source": [
    "# most common brands for this segment are - Kettle, Pringles, Doritos"
   ]
  },
  {
   "cell_type": "code",
   "execution_count": 96,
   "metadata": {},
   "outputs": [
    {
     "data": {
      "text/plain": [
       "175    4997\n",
       "150    3080\n",
       "134    2315\n",
       "110    2051\n",
       "170    1575\n",
       "330    1195\n",
       "165    1102\n",
       "380     626\n",
       "270     620\n",
       "210     576\n",
       "135     290\n",
       "250     280\n",
       "200     179\n",
       "190     148\n",
       "90      128\n",
       "160     128\n",
       "180      70\n",
       "70       63\n",
       "220      62\n",
       "125      59\n",
       "Name: packet_size, dtype: int64"
      ]
     },
     "execution_count": 96,
     "metadata": {},
     "output_type": "execute_result"
    }
   ],
   "source": [
    "df_transaction_filt['packet_size'].value_counts()"
   ]
  },
  {
   "cell_type": "code",
   "execution_count": 97,
   "metadata": {},
   "outputs": [],
   "source": [
    "# they prefer 175g, 150g, 134g packets"
   ]
  },
  {
   "cell_type": "code",
   "execution_count": null,
   "metadata": {},
   "outputs": [],
   "source": []
  }
 ],
 "metadata": {
  "kernelspec": {
   "display_name": "Python 3",
   "language": "python",
   "name": "python3"
  },
  "language_info": {
   "codemirror_mode": {
    "name": "ipython",
    "version": 3
   },
   "file_extension": ".py",
   "mimetype": "text/x-python",
   "name": "python",
   "nbconvert_exporter": "python",
   "pygments_lexer": "ipython3",
   "version": "3.10.11"
  }
 },
 "nbformat": 4,
 "nbformat_minor": 2
}
